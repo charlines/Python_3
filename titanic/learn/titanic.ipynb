{
 "cells": [
  {
   "cell_type": "markdown",
   "metadata": {},
   "source": [
    "# Titanic"
   ]
  },
  {
   "cell_type": "markdown",
   "metadata": {
    "collapsed": true
   },
   "source": [
    "## Prédire le nombre de survivants sur le bateau Titanic"
   ]
  },
  {
   "cell_type": "markdown",
   "metadata": {},
   "source": [
    "### Importer les fonctions"
   ]
  },
  {
   "cell_type": "code",
   "execution_count": 95,
   "metadata": {},
   "outputs": [],
   "source": [
    "import preprocessing_t\n",
    "import processing_t\n",
    "from sklearn.metrics import confusion_matrix"
   ]
  },
  {
   "cell_type": "markdown",
   "metadata": {},
   "source": [
    "### Le modèle"
   ]
  },
  {
   "cell_type": "code",
   "execution_count": 111,
   "metadata": {
    "collapsed": true
   },
   "outputs": [],
   "source": [
    "input_path = \"~/Documents/PDS/Cours/Notebook/titanic/data/train.csv\"\n",
    "\n",
    "def survived(input_path):\n",
    "    df = pd.read_csv(input_path, sep = ',')\n",
    "    X, target = processing_t.parse_model_final(df)\n",
    "    rf = RandomForestClassifier()\n",
    "    print(\"Le modèle : \")\n",
    "    print(processing_t.compute_score(rf, X, target))\n",
    "    print()\n",
    "    print(\"Possibilité d'amélioration du modèle : \")\n",
    "    print(preprocessing_t.best_model(X, target))\n",
    "    print()\n",
    "    rf = RandomForestClassifier(n_estimators=100, max_depth=7, max_features = None)\n",
    "    print(\"Le modèle amélioré : \")\n",
    "    print(processing_t.compute_score(rf, X, target))\n",
    "    # rf.fit(X, target)\n",
    "    # Y_test = rf.predict(X_test)\n",
    "    # print(\"Matrice de confusion : \")\n",
    "    # confusion_matrix(Y_test,target)\n"
   ]
  },
  {
   "cell_type": "markdown",
   "metadata": {},
   "source": [
    "### Exécution du modèle"
   ]
  },
  {
   "cell_type": "code",
   "execution_count": 112,
   "metadata": {},
   "outputs": [
    {
     "name": "stdout",
     "output_type": "stream",
     "text": [
      "Le modèle : \n",
      "Accurancy: 0.80 (+/- 0.05)\n",
      "[ 0.80446927  0.77653631  0.82022472  0.76404494  0.82485876]\n",
      "\n",
      "Possibilité d'amélioration du modèle : \n",
      "Best score: 0.836\n",
      "Best parameters set:\n",
      "\tmax_depth: 5\n",
      "\tmax_features: None\n",
      "None\n",
      "\n",
      "Le modèle amélioré : \n",
      "Accurancy: 0.84 (+/- 0.04)\n",
      "[ 0.83240223  0.82122905  0.86516854  0.80898876  0.85875706]\n"
     ]
    }
   ],
   "source": [
    "survived(input_path)"
   ]
  }
 ],
 "metadata": {
  "kernelspec": {
   "display_name": "Python 3",
   "language": "python",
   "name": "python3"
  },
  "language_info": {
   "codemirror_mode": {
    "name": "ipython",
    "version": 3
   },
   "file_extension": ".py",
   "mimetype": "text/x-python",
   "name": "python",
   "nbconvert_exporter": "python",
   "pygments_lexer": "ipython3",
   "version": "3.6.3"
  }
 },
 "nbformat": 4,
 "nbformat_minor": 2
}
