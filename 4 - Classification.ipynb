{
 "cells": [
  {
   "cell_type": "markdown",
   "metadata": {},
   "source": [
    "# Classification"
   ]
  },
  {
   "cell_type": "markdown",
   "metadata": {},
   "source": [
    "## Importer les données Titanic \".csv\""
   ]
  },
  {
   "cell_type": "code",
   "execution_count": 1,
   "metadata": {
    "collapsed": true
   },
   "outputs": [],
   "source": [
    "import pandas as pd"
   ]
  },
  {
   "cell_type": "code",
   "execution_count": 2,
   "metadata": {},
   "outputs": [
    {
     "data": {
      "text/html": [
       "<div>\n",
       "<style>\n",
       "    .dataframe thead tr:only-child th {\n",
       "        text-align: right;\n",
       "    }\n",
       "\n",
       "    .dataframe thead th {\n",
       "        text-align: left;\n",
       "    }\n",
       "\n",
       "    .dataframe tbody tr th {\n",
       "        vertical-align: top;\n",
       "    }\n",
       "</style>\n",
       "<table border=\"1\" class=\"dataframe\">\n",
       "  <thead>\n",
       "    <tr style=\"text-align: right;\">\n",
       "      <th></th>\n",
       "      <th>PassengerId</th>\n",
       "      <th>Survived</th>\n",
       "      <th>Pclass</th>\n",
       "      <th>Name</th>\n",
       "      <th>Sex</th>\n",
       "      <th>Age</th>\n",
       "      <th>SibSp</th>\n",
       "      <th>Parch</th>\n",
       "      <th>Ticket</th>\n",
       "      <th>Fare</th>\n",
       "      <th>Cabin</th>\n",
       "      <th>Embarked</th>\n",
       "    </tr>\n",
       "  </thead>\n",
       "  <tbody>\n",
       "    <tr>\n",
       "      <th>0</th>\n",
       "      <td>1</td>\n",
       "      <td>0</td>\n",
       "      <td>3</td>\n",
       "      <td>Braund, Mr. Owen Harris</td>\n",
       "      <td>male</td>\n",
       "      <td>22.0</td>\n",
       "      <td>1</td>\n",
       "      <td>0</td>\n",
       "      <td>A/5 21171</td>\n",
       "      <td>7.2500</td>\n",
       "      <td>NaN</td>\n",
       "      <td>S</td>\n",
       "    </tr>\n",
       "    <tr>\n",
       "      <th>1</th>\n",
       "      <td>2</td>\n",
       "      <td>1</td>\n",
       "      <td>1</td>\n",
       "      <td>Cumings, Mrs. John Bradley (Florence Briggs Th...</td>\n",
       "      <td>female</td>\n",
       "      <td>38.0</td>\n",
       "      <td>1</td>\n",
       "      <td>0</td>\n",
       "      <td>PC 17599</td>\n",
       "      <td>71.2833</td>\n",
       "      <td>C85</td>\n",
       "      <td>C</td>\n",
       "    </tr>\n",
       "    <tr>\n",
       "      <th>2</th>\n",
       "      <td>3</td>\n",
       "      <td>1</td>\n",
       "      <td>3</td>\n",
       "      <td>Heikkinen, Miss. Laina</td>\n",
       "      <td>female</td>\n",
       "      <td>26.0</td>\n",
       "      <td>0</td>\n",
       "      <td>0</td>\n",
       "      <td>STON/O2. 3101282</td>\n",
       "      <td>7.9250</td>\n",
       "      <td>NaN</td>\n",
       "      <td>S</td>\n",
       "    </tr>\n",
       "    <tr>\n",
       "      <th>3</th>\n",
       "      <td>4</td>\n",
       "      <td>1</td>\n",
       "      <td>1</td>\n",
       "      <td>Futrelle, Mrs. Jacques Heath (Lily May Peel)</td>\n",
       "      <td>female</td>\n",
       "      <td>35.0</td>\n",
       "      <td>1</td>\n",
       "      <td>0</td>\n",
       "      <td>113803</td>\n",
       "      <td>53.1000</td>\n",
       "      <td>C123</td>\n",
       "      <td>S</td>\n",
       "    </tr>\n",
       "    <tr>\n",
       "      <th>4</th>\n",
       "      <td>5</td>\n",
       "      <td>0</td>\n",
       "      <td>3</td>\n",
       "      <td>Allen, Mr. William Henry</td>\n",
       "      <td>male</td>\n",
       "      <td>35.0</td>\n",
       "      <td>0</td>\n",
       "      <td>0</td>\n",
       "      <td>373450</td>\n",
       "      <td>8.0500</td>\n",
       "      <td>NaN</td>\n",
       "      <td>S</td>\n",
       "    </tr>\n",
       "  </tbody>\n",
       "</table>\n",
       "</div>"
      ],
      "text/plain": [
       "   PassengerId  Survived  Pclass  \\\n",
       "0            1         0       3   \n",
       "1            2         1       1   \n",
       "2            3         1       3   \n",
       "3            4         1       1   \n",
       "4            5         0       3   \n",
       "\n",
       "                                                Name     Sex   Age  SibSp  \\\n",
       "0                            Braund, Mr. Owen Harris    male  22.0      1   \n",
       "1  Cumings, Mrs. John Bradley (Florence Briggs Th...  female  38.0      1   \n",
       "2                             Heikkinen, Miss. Laina  female  26.0      0   \n",
       "3       Futrelle, Mrs. Jacques Heath (Lily May Peel)  female  35.0      1   \n",
       "4                           Allen, Mr. William Henry    male  35.0      0   \n",
       "\n",
       "   Parch            Ticket     Fare Cabin Embarked  \n",
       "0      0         A/5 21171   7.2500   NaN        S  \n",
       "1      0          PC 17599  71.2833   C85        C  \n",
       "2      0  STON/O2. 3101282   7.9250   NaN        S  \n",
       "3      0            113803  53.1000  C123        S  \n",
       "4      0            373450   8.0500   NaN        S  "
      ]
     },
     "execution_count": 2,
     "metadata": {},
     "output_type": "execute_result"
    }
   ],
   "source": [
    "# Lecture du fichier \".csv\"\n",
    "path = \"~/Documents/PDS/Cours/Data/train.csv\"\n",
    "train = pd.read_csv(path, sep=\",\")\n",
    "\n",
    "# Affichage des cinq premières lignes\n",
    "train.head()"
   ]
  },
  {
   "cell_type": "code",
   "execution_count": 3,
   "metadata": {
    "collapsed": true
   },
   "outputs": [],
   "source": [
    "survived = train[train.Survived == 1]\n",
    "dead = train[train.Survived == 0]"
   ]
  },
  {
   "cell_type": "markdown",
   "metadata": {},
   "source": [
    "## Distribution relative des survivants/ non surviants en fonction de la classe"
   ]
  },
  {
   "cell_type": "code",
   "execution_count": 4,
   "metadata": {},
   "outputs": [
    {
     "name": "stdout",
     "output_type": "stream",
     "text": [
      "Populating the interactive namespace from numpy and matplotlib\n"
     ]
    },
    {
     "data": {
      "image/png": "[encoded data removed]",
      "text/plain": [
       "<matplotlib.figure.Figure at 0x17f5a8240>"
      ]
     },
     "metadata": {},
     "output_type": "display_data"
    }
   ],
   "source": [
    "import matplotlib.pyplot as plt\n",
    "from matplotlib import style\n",
    "style.use('fivethirtyeight')\n",
    "%matplotlib inline\n",
    "%pylab inline\n",
    "\n",
    "def plot_hist(feature, bins=20):\n",
    "    x1 = np.array(dead[feature].dropna())\n",
    "    x2 = np.array(survived[feature].dropna())\n",
    "    plt.hist([x1,x2], label=[\"Victime\", \"Survivant\"], bins = bins, color=[\"red\",\"blue\"])\n",
    "    plt.legend(loc=\"upper left\")\n",
    "    plt.title('distribution relative de %s' %feature)\n",
    "    plt.show()\n",
    "    \n",
    "plot_hist('Pclass')"
   ]
  },
  {
   "cell_type": "code",
   "execution_count": 5,
   "metadata": {
    "collapsed": true
   },
   "outputs": [],
   "source": [
    "def parse_model2(X):\n",
    "    if \"Survived\" not in X.columns:\n",
    "        raise ValueError(\"target column survived should belong to df\")\n",
    "    target = X[\"Survived\"]\n",
    "    to_dummy = ['Pclass', 'Sex']\n",
    "    for dum in to_dummy:\n",
    "        split_temp = pd.get_dummies(X[dum], prefix=dum)\n",
    "        for col in split_temp:\n",
    "            X[col] = split_temp[col]\n",
    "        del X[dum]\n",
    "    X['Age'] = X['Age'].fillna(X['Age'].median())\n",
    "    to_del = [\"PassengerId\", \"Name\", \"Cabin\", \"Embarked\", \"Survived\", \"Ticket\"]\n",
    "    #to_del = [\"Name\", \"Cabin\", \"Embarked\", \"Survived\", \"Ticket\"]\n",
    "    for col in to_del:\n",
    "        del X[col]\n",
    "    return X, target\n",
    "\n",
    "x, y = parse_model2(train.copy())"
   ]
  },
  {
   "cell_type": "code",
   "execution_count": 6,
   "metadata": {},
   "outputs": [
    {
     "name": "stderr",
     "output_type": "stream",
     "text": [
      "C:\\Users\\Charline\\Anaconda3\\lib\\site-packages\\sklearn\\cross_validation.py:41: DeprecationWarning: This module was deprecated in version 0.18 in favor of the model_selection module into which all the refactored classes and functions are moved. Also note that the interface of the new CV iterators are different from that of this module. This module will be removed in 0.20.\n",
      "  \"This module will be removed in 0.20.\", DeprecationWarning)\n"
     ]
    }
   ],
   "source": [
    "from sklearn.cross_validation import cross_val_score, train_test_split\n",
    "from sklearn.linear_model import LogisticRegression"
   ]
  },
  {
   "cell_type": "code",
   "execution_count": 7,
   "metadata": {},
   "outputs": [
    {
     "name": "stdout",
     "output_type": "stream",
     "text": [
      "Accurancy: 0.79 (+/- 0.05)\n"
     ]
    },
    {
     "data": {
      "text/plain": [
       "array([ 0.7877095 ,  0.77653631,  0.78089888,  0.75842697,  0.83050847])"
      ]
     },
     "execution_count": 7,
     "metadata": {},
     "output_type": "execute_result"
    }
   ],
   "source": [
    "# On utilise donc la moyenne de plusieurs validation croisées pour augmenter\n",
    "# la significativité de la validation\n",
    "def compute_score(clf, X, y, cv=5):\n",
    "    \"\"\"compute score in a classification modelisation.\n",
    "    clf: classifier\n",
    "    X: features\n",
    "    y:target\n",
    "    \"\"\"\n",
    "    xval = cross_val_score(clf, X, y, cv=5)\n",
    "    print(\"Accurancy: %0.2f (+/- %0.2f)\" % (xval.mean(), xval.std() * 2))\n",
    "    return xval\n",
    "\n",
    "lr = LogisticRegression()\n",
    "compute_score(lr, x, y)"
   ]
  },
  {
   "cell_type": "code",
   "execution_count": 8,
   "metadata": {},
   "outputs": [
    {
     "data": {
      "text/html": [
       "<div>\n",
       "<style>\n",
       "    .dataframe thead tr:only-child th {\n",
       "        text-align: right;\n",
       "    }\n",
       "\n",
       "    .dataframe thead th {\n",
       "        text-align: left;\n",
       "    }\n",
       "\n",
       "    .dataframe tbody tr th {\n",
       "        vertical-align: top;\n",
       "    }\n",
       "</style>\n",
       "<table border=\"1\" class=\"dataframe\">\n",
       "  <thead>\n",
       "    <tr style=\"text-align: right;\">\n",
       "      <th></th>\n",
       "      <th>0</th>\n",
       "      <th>1</th>\n",
       "      <th>2</th>\n",
       "      <th>3</th>\n",
       "      <th>4</th>\n",
       "      <th>5</th>\n",
       "      <th>6</th>\n",
       "      <th>7</th>\n",
       "      <th>8</th>\n",
       "    </tr>\n",
       "  </thead>\n",
       "  <tbody>\n",
       "    <tr>\n",
       "      <th>0</th>\n",
       "      <td>Age</td>\n",
       "      <td>SibSp</td>\n",
       "      <td>Parch</td>\n",
       "      <td>Fare</td>\n",
       "      <td>Pclass_1</td>\n",
       "      <td>Pclass_2</td>\n",
       "      <td>Pclass_3</td>\n",
       "      <td>Sex_female</td>\n",
       "      <td>Sex_male</td>\n",
       "    </tr>\n",
       "    <tr>\n",
       "      <th>1</th>\n",
       "      <td>-0.0366643</td>\n",
       "      <td>-0.334937</td>\n",
       "      <td>-0.103368</td>\n",
       "      <td>0.00353497</td>\n",
       "      <td>1.21065</td>\n",
       "      <td>0.284817</td>\n",
       "      <td>-0.811267</td>\n",
       "      <td>1.68324</td>\n",
       "      <td>-0.99904</td>\n",
       "    </tr>\n",
       "  </tbody>\n",
       "</table>\n",
       "</div>"
      ],
      "text/plain": [
       "           0         1         2           3         4         5         6  \\\n",
       "0        Age     SibSp     Parch        Fare  Pclass_1  Pclass_2  Pclass_3   \n",
       "1 -0.0366643 -0.334937 -0.103368  0.00353497   1.21065  0.284817 -0.811267   \n",
       "\n",
       "            7         8  \n",
       "0  Sex_female  Sex_male  \n",
       "1     1.68324  -0.99904  "
      ]
     },
     "execution_count": 8,
     "metadata": {},
     "output_type": "execute_result"
    }
   ],
   "source": [
    "lr.fit(x,y)\n",
    "coef = pd.DataFrame([list(x.columns), list(lr.coef_[0])])\n",
    "coef"
   ]
  },
  {
   "cell_type": "code",
   "execution_count": 9,
   "metadata": {
    "collapsed": true
   },
   "outputs": [],
   "source": [
    "# La variable sex améliore sensiblement le score.\n",
    "# Par contre pas d'effet de la variable age. Ce qui est suprenant car on embarquait les enfants et les femmes d'abord.\n",
    "# Comme on peut le contater, il n'y pas bcp de survivant chez les enfants.\n",
    "# En considérant la variable is_child, on améliore encore le score."
   ]
  },
  {
   "cell_type": "code",
   "execution_count": 10,
   "metadata": {},
   "outputs": [
    {
     "data": {
      "image/png": "[encoded data removed]",
      "text/plain": [
       "<matplotlib.figure.Figure at 0x1023ca0f0>"
      ]
     },
     "metadata": {},
     "output_type": "display_data"
    }
   ],
   "source": [
    "plot_hist('Age')"
   ]
  },
  {
   "cell_type": "code",
   "execution_count": 11,
   "metadata": {},
   "outputs": [
    {
     "name": "stdout",
     "output_type": "stream",
     "text": [
      "Accurancy: 0.81 (+/- 0.04)\n"
     ]
    },
    {
     "data": {
      "text/plain": [
       "array([ 0.82122905,  0.81005587,  0.79213483,  0.78089888,  0.83050847])"
      ]
     },
     "execution_count": 11,
     "metadata": {},
     "output_type": "execute_result"
    }
   ],
   "source": [
    "x['is_child'] = x[\"Age\"] < 8\n",
    "cols = [c for c in x.columns if 'Age' not in c]\n",
    "X1 = x[cols]\n",
    "compute_score(lr, X1, y)"
   ]
  },
  {
   "cell_type": "code",
   "execution_count": 12,
   "metadata": {},
   "outputs": [
    {
     "data": {
      "text/html": [
       "<div>\n",
       "<style>\n",
       "    .dataframe thead tr:only-child th {\n",
       "        text-align: right;\n",
       "    }\n",
       "\n",
       "    .dataframe thead th {\n",
       "        text-align: left;\n",
       "    }\n",
       "\n",
       "    .dataframe tbody tr th {\n",
       "        vertical-align: top;\n",
       "    }\n",
       "</style>\n",
       "<table border=\"1\" class=\"dataframe\">\n",
       "  <thead>\n",
       "    <tr style=\"text-align: right;\">\n",
       "      <th></th>\n",
       "      <th>0</th>\n",
       "      <th>1</th>\n",
       "      <th>2</th>\n",
       "      <th>3</th>\n",
       "      <th>4</th>\n",
       "      <th>5</th>\n",
       "      <th>6</th>\n",
       "      <th>7</th>\n",
       "      <th>8</th>\n",
       "      <th>9</th>\n",
       "    </tr>\n",
       "  </thead>\n",
       "  <tbody>\n",
       "    <tr>\n",
       "      <th>0</th>\n",
       "      <td>Age</td>\n",
       "      <td>SibSp</td>\n",
       "      <td>Parch</td>\n",
       "      <td>Fare</td>\n",
       "      <td>Pclass_1</td>\n",
       "      <td>Pclass_2</td>\n",
       "      <td>Pclass_3</td>\n",
       "      <td>Sex_female</td>\n",
       "      <td>Sex_male</td>\n",
       "      <td>is_child</td>\n",
       "    </tr>\n",
       "    <tr>\n",
       "      <th>1</th>\n",
       "      <td>-0.396665</td>\n",
       "      <td>-0.220217</td>\n",
       "      <td>0.00491543</td>\n",
       "      <td>0.786264</td>\n",
       "      <td>0.0780039</td>\n",
       "      <td>-0.837009</td>\n",
       "      <td>1.4092</td>\n",
       "      <td>-1.38194</td>\n",
       "      <td>2.21329</td>\n",
       "      <td>None</td>\n",
       "    </tr>\n",
       "  </tbody>\n",
       "</table>\n",
       "</div>"
      ],
      "text/plain": [
       "          0         1           2         3          4         5         6  \\\n",
       "0       Age     SibSp       Parch      Fare   Pclass_1  Pclass_2  Pclass_3   \n",
       "1 -0.396665 -0.220217  0.00491543  0.786264  0.0780039 -0.837009    1.4092   \n",
       "\n",
       "            7         8         9  \n",
       "0  Sex_female  Sex_male  is_child  \n",
       "1    -1.38194   2.21329      None  "
      ]
     },
     "execution_count": 12,
     "metadata": {},
     "output_type": "execute_result"
    }
   ],
   "source": [
    "lr.fit(X1, y)\n",
    "coef = pd.DataFrame([list(x.columns), list(lr.coef_[0])])\n",
    "coef"
   ]
  },
  {
   "cell_type": "code",
   "execution_count": null,
   "metadata": {
    "collapsed": true
   },
   "outputs": [],
   "source": [
    "#Le coeff élevé de is_child montre bien qu'on a plus de chance d'être survivant quand on est enfant. En rajoutant la variable\n",
    "#is_child, nous avons crée la non linéarité qu'on modèle de régression simple ne peut pas capturer.\n",
    "#Nous avons fait les premiers pas vers le feature engineering, qui est essentiel si vous voulez obtenir de belles performances avec les algorithmes de ML."
   ]
  }
 ],
 "metadata": {
  "kernelspec": {
   "display_name": "Python 3",
   "language": "python",
   "name": "python3"
  },
  "language_info": {
   "codemirror_mode": {
    "name": "ipython",
    "version": 3
   },
   "file_extension": ".py",
   "mimetype": "text/x-python",
   "name": "python",
   "nbconvert_exporter": "python",
   "pygments_lexer": "ipython3",
   "version": "3.6.3"
  }
 },
 "nbformat": 4,
 "nbformat_minor": 2
}
