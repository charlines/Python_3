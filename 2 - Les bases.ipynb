{
 "cells": [
  {
   "cell_type": "markdown",
   "metadata": {},
   "source": [
    "# Quelques exercices de bases en Python - 25/09/17"
   ]
  },
  {
   "cell_type": "markdown",
   "metadata": {},
   "source": [
    "## Créer une fonction :"
   ]
  },
  {
   "cell_type": "code",
   "execution_count": 26,
   "metadata": {},
   "outputs": [],
   "source": [
    "# Exemple de fonction : Convertion Radian en Angle \n",
    "def radian(deg,min,sec):\n",
    "    degres = deg + (min/60) + (sec/3600)\n",
    "    print(\"%d°%d'%d'' = %d degrés\" %(deg,min,sec,degres))\n",
    "    pi = 3.14\n",
    "    rad = degres * (pi/180)\n",
    "    print(\"Ce qui vaut %f radian\" %(rad))"
   ]
  },
  {
   "cell_type": "markdown",
   "metadata": {},
   "source": [
    "## Utiliser la fonction crée :"
   ]
  },
  {
   "cell_type": "code",
   "execution_count": 23,
   "metadata": {},
   "outputs": [
    {
     "name": "stdout",
     "output_type": "stream",
     "text": [
      "15°20'10'' vaut 15 degrés\n",
      "Ce qui vaut 0.267530 radian\n"
     ]
    }
   ],
   "source": [
    "radian(15,20,10)"
   ]
  },
  {
   "cell_type": "markdown",
   "metadata": {},
   "source": [
    "## Affiche le nombre de grains à déposer sur chacune des 64 cases du jeu : "
   ]
  },
  {
   "cell_type": "code",
   "execution_count": 35,
   "metadata": {
    "scrolled": true
   },
   "outputs": [
    {
     "name": "stdout",
     "output_type": "stream",
     "text": [
      "Case 1 : 1\n",
      "Case 2 : 2\n",
      "Case 3 : 4\n",
      "Case 4 : 8\n",
      "Case 5 : 16\n",
      "Case 6 : 32\n",
      "Case 7 : 64\n",
      "Case 8 : 128\n",
      "Case 9 : 256\n",
      "Case 10 : 512\n",
      "Case 11 : 1024\n",
      "Case 12 : 2048\n",
      "Case 13 : 4096\n",
      "Case 14 : 8192\n",
      "Case 15 : 16384\n",
      "Case 16 : 32768\n",
      "Case 17 : 65536\n",
      "Case 18 : 131072\n",
      "Case 19 : 262144\n",
      "Case 20 : 524288\n",
      "Case 21 : 1048576\n",
      "Case 22 : 2097152\n",
      "Case 23 : 4194304\n",
      "Case 24 : 8388608\n",
      "Case 25 : 16777216\n",
      "Case 26 : 33554432\n",
      "Case 27 : 67108864\n",
      "Case 28 : 134217728\n",
      "Case 29 : 268435456\n",
      "Case 30 : 536870912\n",
      "Case 31 : 1073741824\n",
      "Case 32 : 2147483648\n",
      "Case 33 : 4294967296\n",
      "Case 34 : 8589934592\n",
      "Case 35 : 17179869184\n",
      "Case 36 : 34359738368\n",
      "Case 37 : 68719476736\n",
      "Case 38 : 137438953472\n",
      "Case 39 : 274877906944\n",
      "Case 40 : 549755813888\n",
      "Case 41 : 1099511627776\n",
      "Case 42 : 2199023255552\n",
      "Case 43 : 4398046511104\n",
      "Case 44 : 8796093022208\n",
      "Case 45 : 17592186044416\n",
      "Case 46 : 35184372088832\n",
      "Case 47 : 70368744177664\n",
      "Case 48 : 140737488355328\n",
      "Case 49 : 281474976710656\n",
      "Case 50 : 562949953421312\n",
      "Case 51 : 1125899906842624\n",
      "Case 52 : 2251799813685248\n",
      "Case 53 : 4503599627370496\n",
      "Case 54 : 9007199254740992\n",
      "Case 55 : 18014398509481984\n",
      "Case 56 : 36028797018963968\n",
      "Case 57 : 72057594037927936\n",
      "Case 58 : 144115188075855872\n",
      "Case 59 : 288230376151711744\n",
      "Case 60 : 576460752303423488\n",
      "Case 61 : 1152921504606846976\n",
      "Case 62 : 2305843009213693952\n",
      "Case 63 : 4611686018427387904\n",
      "Case 64 : 9223372036854775808\n"
     ]
    }
   ],
   "source": [
    "# Enonce : Le vieux sage demanda qu'on lui fournisse un nombre de grains de riz suffisant\n",
    "# pour que l'on puisse en déposer 1 seul sur la première case du jeu qu'il venait d'inventer, \n",
    "# deux sur la suivante, quatre sur la troisième, et ainsi de suite jusqu'à la 64e case.\n",
    "a = 0\n",
    "b = 1\n",
    "for i in range(64):\n",
    "    a, b = b, b*2\n",
    "    print(\"Case \" + str(i+1) + \" : \" + str(a))"
   ]
  },
  {
   "cell_type": "markdown",
   "metadata": {},
   "source": [
    "## Déterminer si la chaîne de caractères comporte un \"e\", puis compter le nombre d'occurences :"
   ]
  },
  {
   "cell_type": "code",
   "execution_count": 51,
   "metadata": {},
   "outputs": [
    {
     "name": "stdout",
     "output_type": "stream",
     "text": [
      "Ma chaîne 'Je m'appelle' contient 3 'e'.\n"
     ]
    }
   ],
   "source": [
    "chaine = \"Je m'appelle\"\n",
    "i = 0\n",
    "for lettre in chaine:\n",
    "    if(lettre == \"e\"):\n",
    "        i = i+1\n",
    "        \n",
    "if(i != 0):\n",
    "    print(\"Ma chaîne '\" + chaine + \"' contient \" + str(i) + \" 'e'.\")\n",
    "else: \n",
    "    print(\"Ma chaîne '%s' ne contient pas de 'e'\") %(chaine)"
   ]
  },
  {
   "cell_type": "markdown",
   "metadata": {},
   "source": [
    "## Généralisation de l'exemple précédent :"
   ]
  },
  {
   "cell_type": "code",
   "execution_count": 53,
   "metadata": {
    "collapsed": true
   },
   "outputs": [],
   "source": [
    "# Création d'une fonction permettant de compter le nombre d'occurences\n",
    "# d'une lettre particulière dans une chaîne de caractères particulières \n",
    "def nb_occurences(chaine, lettre):\n",
    "    i = 0\n",
    "    for caractere in chaine:\n",
    "        if(caractere == lettre):\n",
    "            i = i+1\n",
    "    if(i != 0):\n",
    "        print(\"Ma chaîne '\" + chaine + \"' contient \" + str(i) + \" '\" + lettre + \"'.\")\n",
    "    else: \n",
    "        print(\"Ma chaîne '%s' ne contient pas de 'e'\") %(chaine)"
   ]
  },
  {
   "cell_type": "code",
   "execution_count": 56,
   "metadata": {},
   "outputs": [
    {
     "name": "stdout",
     "output_type": "stream",
     "text": [
      "Ma chaîne 'Nice to meet you' contient 2 'o'.\n"
     ]
    }
   ],
   "source": [
    "nb_occurences(\"Nice to meet you\", \"o\")"
   ]
  },
  {
   "cell_type": "markdown",
   "metadata": {},
   "source": [
    "## Afficher deux listes fusionnées de même taille"
   ]
  },
  {
   "cell_type": "code",
   "execution_count": 78,
   "metadata": {},
   "outputs": [
    {
     "name": "stdout",
     "output_type": "stream",
     "text": [
      "31 Janvier\n",
      "28 Fevrier\n",
      "31 Mars\n",
      "30 Avril\n",
      "31 Mai\n",
      "30 Juin\n",
      "31 Juillet\n",
      "31 Aout\n",
      "30 Septembre\n",
      "31 Octobre\n",
      "30 Novembre\n",
      "31 Decembre\n"
     ]
    }
   ],
   "source": [
    "t1 = [31, 28, 31, 30, 31, 30, 31, 31, 30, 31, 30, 31]\n",
    "t2 = ['Janvier', 'Fevrier', 'Mars', 'Avril', 'Mai', 'Juin', 'Juillet', 'Aout', 'Septembre', 'Octobre', 'Novembre', 'Decembre']\n",
    "\n",
    "for t1, t2 in zip(t1, t2):\n",
    "   print(t1, t2)"
   ]
  },
  {
   "cell_type": "markdown",
   "metadata": {},
   "source": [
    "## Générer deux nouvelles listes (en fonction du nombre de caractères)"
   ]
  },
  {
   "cell_type": "code",
   "execution_count": 89,
   "metadata": {
    "scrolled": true
   },
   "outputs": [
    {
     "name": "stdout",
     "output_type": "stream",
     "text": [
      "La liste de mots (contenant 6 caractères par mot) : ['Sandra']\n",
      "La liste de mots (ne contenant pas 6 caractères par mot) : ['Jean', 'Maximilien', 'Brigitte', 'Sonia', 'Jean-Pierre']\n"
     ]
    }
   ],
   "source": [
    "# Création des trois listes\n",
    "t1 = ['Jean', 'Maximilien', 'Brigitte', 'Sonia', 'Jean-Pierre', 'Sandra']\n",
    "t2 = list()\n",
    "t3 = list() \n",
    "\n",
    "# Test avec une comparaison à 6 caractères\n",
    "for i,e in enumerate(t1):\n",
    "    if len(e) == 6:\n",
    "        # Création d'une liste contenant les mots à 6 caractères\n",
    "        t2.append(e)\n",
    "    else:\n",
    "        # Création d'une liste ne contenant pas les mots à 6 caractères\n",
    "        t3.append(e)\n",
    "\n",
    "print(\"La liste de mots (contenant 6 caractères par mot) : \" + str(t2))\n",
    "print(\"La liste de mots (ne contenant pas 6 caractères par mot) : \" + str(t3))"
   ]
  },
  {
   "cell_type": "markdown",
   "metadata": {},
   "source": [
    "## Trier un dictionnaire"
   ]
  },
  {
   "cell_type": "code",
   "execution_count": 90,
   "metadata": {
    "collapsed": true
   },
   "outputs": [],
   "source": [
    "dico = {'a':3, 'b':14, 'c':28, 'e':27, 'k':1}"
   ]
  },
  {
   "cell_type": "code",
   "execution_count": 91,
   "metadata": {},
   "outputs": [
    {
     "data": {
      "text/plain": [
       "[('k', 1), ('a', 3), ('b', 14), ('e', 27), ('c', 28)]"
      ]
     },
     "execution_count": 91,
     "metadata": {},
     "output_type": "execute_result"
    }
   ],
   "source": [
    "sorted(dico.items(), key=lambda t: t[1])"
   ]
  }
 ],
 "metadata": {
  "kernelspec": {
   "display_name": "Python 3",
   "language": "python",
   "name": "python3"
  },
  "language_info": {
   "codemirror_mode": {
    "name": "ipython",
    "version": 3
   },
   "file_extension": ".py",
   "mimetype": "text/x-python",
   "name": "python",
   "nbconvert_exporter": "python",
   "pygments_lexer": "ipython3",
   "version": "3.6.2"
  }
 },
 "nbformat": 4,
 "nbformat_minor": 1
}
